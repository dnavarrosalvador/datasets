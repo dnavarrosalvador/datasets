{
 "cells": [
  {
   "cell_type": "markdown",
   "id": "5e1b60b9",
   "metadata": {},
   "source": [
    "Estudio de datos sobre la excel de logista en su inventario"
   ]
  },
  {
   "cell_type": "code",
   "execution_count": 1,
   "id": "e86609dd",
   "metadata": {},
   "outputs": [
    {
     "data": {
      "text/html": [
       "<div>\n",
       "<style scoped>\n",
       "    .dataframe tbody tr th:only-of-type {\n",
       "        vertical-align: middle;\n",
       "    }\n",
       "\n",
       "    .dataframe tbody tr th {\n",
       "        vertical-align: top;\n",
       "    }\n",
       "\n",
       "    .dataframe thead th {\n",
       "        text-align: right;\n",
       "    }\n",
       "</style>\n",
       "<table border=\"1\" class=\"dataframe\">\n",
       "  <thead>\n",
       "    <tr style=\"text-align: right;\">\n",
       "      <th></th>\n",
       "      <th>System Name</th>\n",
       "      <th>Name</th>\n",
       "      <th>Enviroment</th>\n",
       "      <th>Virtual</th>\n",
       "      <th>Location</th>\n",
       "      <th>Cl subtype</th>\n",
       "      <th>Manufacturer</th>\n",
       "      <th>Model</th>\n",
       "      <th>System Status</th>\n",
       "      <th>Solution Category</th>\n",
       "      <th>...</th>\n",
       "      <th>Discovered Version</th>\n",
       "      <th>Full CI Name</th>\n",
       "      <th>Instance Assignment Group</th>\n",
       "      <th>Instance Type</th>\n",
       "      <th>Delivery Instance Owner Backup</th>\n",
       "      <th>Instance Last detected on</th>\n",
       "      <th>Kernel Version</th>\n",
       "      <th>Product ID</th>\n",
       "      <th>Product Edition</th>\n",
       "      <th>Software/Firmware Version</th>\n",
       "    </tr>\n",
       "  </thead>\n",
       "  <tbody>\n",
       "    <tr>\n",
       "      <th>0</th>\n",
       "      <td>wfptopor05.logista.com</td>\n",
       "      <td>wfptopor05</td>\n",
       "      <td>Production</td>\n",
       "      <td>no</td>\n",
       "      <td>MIDSID Oporto</td>\n",
       "      <td>ACCESS-POINT</td>\n",
       "      <td>ARUBA</td>\n",
       "      <td>INSTANT ACCESS POINT 304</td>\n",
       "      <td>in production</td>\n",
       "      <td>os</td>\n",
       "      <td>...</td>\n",
       "      <td>Version 6.5.4.4</td>\n",
       "      <td>NaN</td>\n",
       "      <td>NaN</td>\n",
       "      <td>NaN</td>\n",
       "      <td></td>\n",
       "      <td>NaT</td>\n",
       "      <td>NaN</td>\n",
       "      <td>NaN</td>\n",
       "      <td>NaN</td>\n",
       "      <td>Version 6.5.4.4</td>\n",
       "    </tr>\n",
       "    <tr>\n",
       "      <th>1</th>\n",
       "      <td>wfptopor04.logista.com</td>\n",
       "      <td>wfptopor04</td>\n",
       "      <td>Production</td>\n",
       "      <td>no</td>\n",
       "      <td>MIDSID Oporto</td>\n",
       "      <td>ACCESS-POINT</td>\n",
       "      <td>ARUBA</td>\n",
       "      <td>INSTANT ACCESS POINT 304</td>\n",
       "      <td>in production</td>\n",
       "      <td>os</td>\n",
       "      <td>...</td>\n",
       "      <td>Version 6.5.4.4</td>\n",
       "      <td>NaN</td>\n",
       "      <td>NaN</td>\n",
       "      <td>NaN</td>\n",
       "      <td></td>\n",
       "      <td>NaT</td>\n",
       "      <td>NaN</td>\n",
       "      <td>NaN</td>\n",
       "      <td>NaN</td>\n",
       "      <td>Version 6.5.4.4</td>\n",
       "    </tr>\n",
       "    <tr>\n",
       "      <th>2</th>\n",
       "      <td>wfptopor03.logista.com</td>\n",
       "      <td>wfptopor03</td>\n",
       "      <td>Production</td>\n",
       "      <td>no</td>\n",
       "      <td>MIDSID Oporto</td>\n",
       "      <td>ACCESS-POINT</td>\n",
       "      <td>ARUBA</td>\n",
       "      <td>INSTANT ACCESS POINT 304</td>\n",
       "      <td>in production</td>\n",
       "      <td>os</td>\n",
       "      <td>...</td>\n",
       "      <td>Version 6.5.4.4</td>\n",
       "      <td>NaN</td>\n",
       "      <td>NaN</td>\n",
       "      <td>NaN</td>\n",
       "      <td></td>\n",
       "      <td>NaT</td>\n",
       "      <td>NaN</td>\n",
       "      <td>NaN</td>\n",
       "      <td>NaN</td>\n",
       "      <td>Version 6.5.4.4</td>\n",
       "    </tr>\n",
       "    <tr>\n",
       "      <th>3</th>\n",
       "      <td>wfptopor02.logista.com</td>\n",
       "      <td>wfptopor02</td>\n",
       "      <td>Production</td>\n",
       "      <td>no</td>\n",
       "      <td>MIDSID Oporto</td>\n",
       "      <td>ACCESS-POINT</td>\n",
       "      <td>ARUBA</td>\n",
       "      <td>INSTANT ACCESS POINT 304</td>\n",
       "      <td>in production</td>\n",
       "      <td>os</td>\n",
       "      <td>...</td>\n",
       "      <td>Version 6.5.4.4</td>\n",
       "      <td>NaN</td>\n",
       "      <td>NaN</td>\n",
       "      <td>NaN</td>\n",
       "      <td></td>\n",
       "      <td>NaT</td>\n",
       "      <td>NaN</td>\n",
       "      <td>NaN</td>\n",
       "      <td>NaN</td>\n",
       "      <td>Version 6.5.4.4</td>\n",
       "    </tr>\n",
       "    <tr>\n",
       "      <th>4</th>\n",
       "      <td>wfptopor01.logista.com</td>\n",
       "      <td>wfptopor01</td>\n",
       "      <td>Production</td>\n",
       "      <td>no</td>\n",
       "      <td>MIDSID Oporto</td>\n",
       "      <td>ACCESS-POINT</td>\n",
       "      <td>ARUBA</td>\n",
       "      <td>INSTANT ACCESS POINT 304</td>\n",
       "      <td>in production</td>\n",
       "      <td>os</td>\n",
       "      <td>...</td>\n",
       "      <td>Version 6.5.4.4</td>\n",
       "      <td>NaN</td>\n",
       "      <td>NaN</td>\n",
       "      <td>NaN</td>\n",
       "      <td></td>\n",
       "      <td>NaT</td>\n",
       "      <td>NaN</td>\n",
       "      <td>NaN</td>\n",
       "      <td>NaN</td>\n",
       "      <td>Version 6.5.4.4</td>\n",
       "    </tr>\n",
       "  </tbody>\n",
       "</table>\n",
       "<p>5 rows × 28 columns</p>\n",
       "</div>"
      ],
      "text/plain": [
       "              System Name        Name  Enviroment Virtual       Location  \\\n",
       "0  wfptopor05.logista.com  wfptopor05  Production      no  MIDSID Oporto   \n",
       "1  wfptopor04.logista.com  wfptopor04  Production      no  MIDSID Oporto   \n",
       "2  wfptopor03.logista.com  wfptopor03  Production      no  MIDSID Oporto   \n",
       "3  wfptopor02.logista.com  wfptopor02  Production      no  MIDSID Oporto   \n",
       "4  wfptopor01.logista.com  wfptopor01  Production      no  MIDSID Oporto   \n",
       "\n",
       "     Cl subtype Manufacturer                     Model  System Status  \\\n",
       "0  ACCESS-POINT        ARUBA  INSTANT ACCESS POINT 304  in production   \n",
       "1  ACCESS-POINT        ARUBA  INSTANT ACCESS POINT 304  in production   \n",
       "2  ACCESS-POINT        ARUBA  INSTANT ACCESS POINT 304  in production   \n",
       "3  ACCESS-POINT        ARUBA  INSTANT ACCESS POINT 304  in production   \n",
       "4  ACCESS-POINT        ARUBA  INSTANT ACCESS POINT 304  in production   \n",
       "\n",
       "  Solution Category  ... Discovered Version Full CI Name  \\\n",
       "0                os  ...    Version 6.5.4.4          NaN   \n",
       "1                os  ...    Version 6.5.4.4          NaN   \n",
       "2                os  ...    Version 6.5.4.4          NaN   \n",
       "3                os  ...    Version 6.5.4.4          NaN   \n",
       "4                os  ...    Version 6.5.4.4          NaN   \n",
       "\n",
       "  Instance Assignment Group Instance Type Delivery Instance Owner Backup  \\\n",
       "0                       NaN           NaN                                  \n",
       "1                       NaN           NaN                                  \n",
       "2                       NaN           NaN                                  \n",
       "3                       NaN           NaN                                  \n",
       "4                       NaN           NaN                                  \n",
       "\n",
       "  Instance Last detected on Kernel Version Product ID Product Edition  \\\n",
       "0                       NaT            NaN        NaN             NaN   \n",
       "1                       NaT            NaN        NaN             NaN   \n",
       "2                       NaT            NaN        NaN             NaN   \n",
       "3                       NaT            NaN        NaN             NaN   \n",
       "4                       NaT            NaN        NaN             NaN   \n",
       "\n",
       "  Software/Firmware Version  \n",
       "0           Version 6.5.4.4  \n",
       "1           Version 6.5.4.4  \n",
       "2           Version 6.5.4.4  \n",
       "3           Version 6.5.4.4  \n",
       "4           Version 6.5.4.4  \n",
       "\n",
       "[5 rows x 28 columns]"
      ]
     },
     "execution_count": 1,
     "metadata": {},
     "output_type": "execute_result"
    }
   ],
   "source": [
    "# Cargamos la librería pandas\n",
    "import pandas as pd\n",
    "\n",
    "# Cargamos el archivo de Excel\n",
    "df = pd.read_excel('inventory.xlsx')\n",
    "\n",
    "# Mostramos las primeras 5 filas del DataFrame\n",
    "df.head()"
   ]
  },
  {
   "cell_type": "code",
   "execution_count": 2,
   "id": "567c741f",
   "metadata": {},
   "outputs": [
    {
     "name": "stdout",
     "output_type": "stream",
     "text": [
      "<class 'pandas.core.frame.DataFrame'>\n",
      "RangeIndex: 6019 entries, 0 to 6018\n",
      "Data columns (total 28 columns):\n",
      " #   Column                          Non-Null Count  Dtype         \n",
      "---  ------                          --------------  -----         \n",
      " 0   System Name                     6018 non-null   object        \n",
      " 1   Name                            6018 non-null   object        \n",
      " 2   Enviroment                      6018 non-null   object        \n",
      " 3   Virtual                         5830 non-null   object        \n",
      " 4   Location                        5810 non-null   object        \n",
      " 5   Cl subtype                      5474 non-null   object        \n",
      " 6   Manufacturer                    2272 non-null   object        \n",
      " 7   Model                           2245 non-null   object        \n",
      " 8   System Status                   6018 non-null   object        \n",
      " 9   Solution Category               6018 non-null   object        \n",
      " 10  Solution Name                   6018 non-null   object        \n",
      " 11  OS Class                        6018 non-null   object        \n",
      " 12  OS Version                      6018 non-null   object        \n",
      " 13  Instance Name                   1738 non-null   object        \n",
      " 14  Instance Status                 6018 non-null   object        \n",
      " 15  Instance Service Level          5542 non-null   object        \n",
      " 16  Build Number                    753 non-null    object        \n",
      " 17  Business Description            1621 non-null   object        \n",
      " 18  Discovered Version              4347 non-null   object        \n",
      " 19  Full CI Name                    2486 non-null   object        \n",
      " 20  Instance Assignment Group       2417 non-null   object        \n",
      " 21  Instance Type                   297 non-null    object        \n",
      " 22  Delivery Instance Owner Backup  6018 non-null   object        \n",
      " 23  Instance Last detected on       1898 non-null   datetime64[ns]\n",
      " 24  Kernel Version                  818 non-null    object        \n",
      " 25  Product ID                      437 non-null    object        \n",
      " 26  Product Edition                 342 non-null    object        \n",
      " 27  Software/Firmware Version       5345 non-null   object        \n",
      "dtypes: datetime64[ns](1), object(27)\n",
      "memory usage: 1.3+ MB\n"
     ]
    }
   ],
   "source": [
    "df.info()"
   ]
  },
  {
   "cell_type": "code",
   "execution_count": 3,
   "id": "a1bcf24d",
   "metadata": {},
   "outputs": [
    {
     "name": "stdout",
     "output_type": "stream",
     "text": [
      "Número de maquinas Linux: 466\n"
     ]
    }
   ],
   "source": [
    "# parece que hay un problema con los nombres de las columnas así que vamos a acceder a las columnas por el indice.\n",
    "# creamos un dataframe con la selección de las máquinas linux\n",
    "linux_df = df[df.iloc[:, 11] == 'Linux']\n",
    "# agrupamos por la columna 'Name'\n",
    "grouped_linux_df = linux_df.groupby('Name')\n",
    "# mostramos el numero de grupos distintos\n",
    "print(f'Número de maquinas Linux: {len(grouped_linux_df)}')\n"
   ]
  },
  {
   "cell_type": "code",
   "execution_count": 4,
   "id": "f3e37ae7",
   "metadata": {},
   "outputs": [
    {
     "name": "stdout",
     "output_type": "stream",
     "text": [
      "Número de maquinas Windows: 448\n"
     ]
    }
   ],
   "source": [
    "# parece que hay un problema con los nombres de las columnas así que vamos a acceder a las columnas por el indice.\n",
    "# creamos un dataframe con la selección de las máquinas Windows\n",
    "windows_df = df[df.iloc[:, 11] == 'Windows']\n",
    "# agrupamos por la columna 'Name'\n",
    "grouped_windows_df = windows_df.groupby('Name')\n",
    "# mostramos el numero de grupos distintos\n",
    "print(f'Número de maquinas Windows: {len(grouped_windows_df)}')\n"
   ]
  },
  {
   "cell_type": "code",
   "execution_count": 5,
   "id": "7e839306",
   "metadata": {},
   "outputs": [
    {
     "name": "stdout",
     "output_type": "stream",
     "text": [
      "Número de maquinas AIX: 2\n"
     ]
    }
   ],
   "source": [
    "# parece que hay un problema con los nombres de las columnas así que vamos a acceder a las columnas por el indice.\n",
    "# creamos un dataframe con la selección de las máquinas Windows\n",
    "AIX_df = df[df.iloc[:, 11] == 'AIX']\n",
    "# agrupamos por la columna 'Name'\n",
    "grouped_AIX_df = AIX_df.groupby('Name')\n",
    "# mostramos el numero de grupos distintos\n",
    "print(f'Número de maquinas AIX: {len(grouped_AIX_df)}')\n"
   ]
  },
  {
   "cell_type": "code",
   "execution_count": 6,
   "id": "8abb58f3",
   "metadata": {},
   "outputs": [
    {
     "name": "stdout",
     "output_type": "stream",
     "text": [
      "Número de maquinas hpux: 7\n"
     ]
    }
   ],
   "source": [
    "# parece que hay un problema con los nombres de las columnas así que vamos a acceder a las columnas por el indice.\n",
    "# creamos un dataframe con la selección de las máquinas Windows\n",
    "hpux_df = df[df.iloc[:, 11] == 'HP-UX']\n",
    "# agrupamos por la columna 'Name'\n",
    "grouped_hpux_df = hpux_df.groupby('Name')\n",
    "# mostramos el numero de grupos distintos\n",
    "print(f'Número de maquinas hpux: {len(grouped_hpux_df)}')\n"
   ]
  },
  {
   "cell_type": "code",
   "execution_count": 8,
   "id": "5317786b",
   "metadata": {},
   "outputs": [
    {
     "name": "stdout",
     "output_type": "stream",
     "text": [
      "Número de maquinas backup: 25\n"
     ]
    }
   ],
   "source": [
    "# parece que hay un problema con los nombres de las columnas así que vamos a acceder a las columnas por el indice.\n",
    "# creamos un dataframe con la selección de las máquinas Windows\n",
    "backup_df = df[df.iloc[:, 11] == 'Backup']\n",
    "# agrupamos por la columna 'Name'\n",
    "grouped_backup_df = backup_df.groupby('Name')\n",
    "# mostramos el numero de grupos distintos\n",
    "print(f'Número de maquinas backup: {len(grouped_backup_df)}')\n"
   ]
  },
  {
   "cell_type": "code",
   "execution_count": 9,
   "id": "f7aed3a7",
   "metadata": {},
   "outputs": [
    {
     "name": "stdout",
     "output_type": "stream",
     "text": [
      "Número de maquinas ibmi: 5\n"
     ]
    }
   ],
   "source": [
    "# parece que hay un problema con los nombres de las columnas así que vamos a acceder a las columnas por el indice.\n",
    "# creamos un dataframe con la selección de las máquinas Windows\n",
    "ibmi_df = df[df.iloc[:, 11] == 'IBM i']\n",
    "# agrupamos por la columna 'Name'\n",
    "grouped_ibmi_df = ibmi_df.groupby('Name')\n",
    "# mostramos el numero de grupos distintos\n",
    "print(f'Número de maquinas ibmi: {len(grouped_ibmi_df)}')\n"
   ]
  },
  {
   "cell_type": "code",
   "execution_count": 10,
   "id": "4d33a36c",
   "metadata": {},
   "outputs": [
    {
     "name": "stdout",
     "output_type": "stream",
     "text": [
      "Número de maquinas citrix: 2\n"
     ]
    }
   ],
   "source": [
    "# parece que hay un problema con los nombres de las columnas así que vamos a acceder a las columnas por el indice.\n",
    "# creamos un dataframe con la selección de las máquinas Windows\n",
    "citrix_df = df[df.iloc[:, 11] == 'Citrix']\n",
    "# agrupamos por la columna 'Name'\n",
    "grouped_citrix_df = citrix_df.groupby('Name')\n",
    "# mostramos el numero de grupos distintos\n",
    "print(f'Número de maquinas citrix: {len(grouped_citrix_df)}')\n"
   ]
  },
  {
   "cell_type": "code",
   "execution_count": 11,
   "id": "9575dfee",
   "metadata": {},
   "outputs": [
    {
     "name": "stdout",
     "output_type": "stream",
     "text": [
      "Número de maquinas powervm: 2\n"
     ]
    }
   ],
   "source": [
    "# parece que hay un problema con los nombres de las columnas así que vamos a acceder a las columnas por el indice.\n",
    "# creamos un dataframe con la selección de las máquinas Windows\n",
    "powervm_df = df[df.iloc[:, 11] == 'PowerVM']\n",
    "# agrupamos por la columna 'Name'\n",
    "grouped_powervm_df = powervm_df.groupby('Name')\n",
    "# mostramos el numero de grupos distintos\n",
    "print(f'Número de maquinas powervm: {len(grouped_powervm_df)}')\n"
   ]
  },
  {
   "cell_type": "code",
   "execution_count": 12,
   "id": "09b2888a",
   "metadata": {},
   "outputs": [
    {
     "name": "stdout",
     "output_type": "stream",
     "text": [
      "Número de maquinas storage: 8\n"
     ]
    }
   ],
   "source": [
    "# parece que hay un problema con los nombres de las columnas así que vamos a acceder a las columnas por el indice.\n",
    "# creamos un dataframe con la selección de las máquinas Windows\n",
    "storage_df = df[df.iloc[:, 11] == 'Storage']\n",
    "# agrupamos por la columna 'Name'\n",
    "grouped_storage_df = storage_df.groupby('Name')\n",
    "# mostramos el numero de grupos distintos\n",
    "print(f'Número de maquinas storage: {len(grouped_storage_df)}')\n"
   ]
  },
  {
   "cell_type": "code",
   "execution_count": 13,
   "id": "07ceebb1",
   "metadata": {},
   "outputs": [
    {
     "name": "stdout",
     "output_type": "stream",
     "text": [
      "Número de maquinas vmware: 61\n"
     ]
    }
   ],
   "source": [
    "# parece que hay un problema con los nombres de las columnas así que vamos a acceder a las columnas por el indice.\n",
    "# creamos un dataframe con la selección de las máquinas Windows\n",
    "vmware_df = df[df.iloc[:, 11] == 'VMware']\n",
    "# agrupamos por la columna 'Name'\n",
    "grouped_vmware_df = vmware_df.groupby('Name')\n",
    "# mostramos el numero de grupos distintos\n",
    "print(f'Número de maquinas vmware: {len(grouped_vmware_df)}')\n"
   ]
  },
  {
   "cell_type": "code",
   "execution_count": 14,
   "id": "5b0bbe57",
   "metadata": {},
   "outputs": [
    {
     "name": "stdout",
     "output_type": "stream",
     "text": [
      "Número de maquinas other: 13\n"
     ]
    }
   ],
   "source": [
    "# parece que hay un problema con los nombres de las columnas así que vamos a acceder a las columnas por el indice.\n",
    "# creamos un dataframe con la selección de las máquinas Windows\n",
    "other_df = df[df.iloc[:, 11] == 'Other']\n",
    "# agrupamos por la columna 'Name'\n",
    "grouped_other_df = other_df.groupby('Name')\n",
    "# mostramos el numero de grupos distintos\n",
    "print(f'Número de maquinas other: {len(grouped_other_df)}')\n"
   ]
  },
  {
   "cell_type": "code",
   "execution_count": 16,
   "id": "15c8b9d6",
   "metadata": {},
   "outputs": [
    {
     "name": "stdout",
     "output_type": "stream",
     "text": [
      "Número de maquinas network: 2382\n"
     ]
    }
   ],
   "source": [
    "# parece que hay un problema con los nombres de las columnas así que vamos a acceder a las columnas por el indice.\n",
    "# creamos un dataframe con la selección de las máquinas Windows\n",
    "network_df = df[df.iloc[:, 11] == 'Network']\n",
    "# agrupamos por la columna 'Name'\n",
    "grouped_network_df = network_df.groupby('Name')\n",
    "# mostramos el numero de grupos distintos\n",
    "print(f'Número de maquinas network: {len(grouped_network_df)}')\n"
   ]
  },
  {
   "cell_type": "code",
   "execution_count": 31,
   "id": "27f28d92",
   "metadata": {},
   "outputs": [
    {
     "name": "stdout",
     "output_type": "stream",
     "text": [
      "Número de maquinas Linux Red Hat: 345\n"
     ]
    }
   ],
   "source": [
    "# numero de maquinas red hat:\n",
    "redhat_df = df[(df.iloc[:, 11] == 'Linux') & (df.iloc[:,12].str[0:12] == 'Linux RedHat')]\n",
    "# agrupamos por la columna 'Name'\n",
    "grouped_redhat_df = redhat_df.groupby('Name')\n",
    "# mostramos el numero de grupos distintos\n",
    "print(f'Número de maquinas Linux Red Hat: {len(grouped_redhat_df)}')\n",
    "\n",
    "\n"
   ]
  },
  {
   "cell_type": "code",
   "execution_count": 33,
   "id": "2130780c",
   "metadata": {},
   "outputs": [
    {
     "name": "stdout",
     "output_type": "stream",
     "text": [
      "   Tipo_maquina  Cantidad\n",
      "0         Linux       466\n",
      "1       Windows       448\n",
      "2           AIX         2\n",
      "3         HP-UX         7\n",
      "4        Backup        25\n",
      "5         IBM i         5\n",
      "6        Citrix         2\n",
      "7       PowerVM         2\n",
      "8       Storage         8\n",
      "9         Other        13\n",
      "10      Network      2382\n",
      "11       RedHat       345\n"
     ]
    }
   ],
   "source": [
    "lista_maquinas = ['Linux', 'Windows', 'AIX', 'HP-UX', 'Backup', 'IBM i', 'Citrix', 'PowerVM', 'Storage', 'Other', 'Network','RedHat']\n",
    "lista_cantidades = [len(grouped_linux_df), len(grouped_windows_df), len(grouped_AIX_df), len(grouped_hpux_df), \\\n",
    "                    len(grouped_backup_df), len(grouped_ibmi_df), len(grouped_citrix_df), len(grouped_powervm_df), len(grouped_storage_df), len(grouped_other_df), len(grouped_network_df), len(grouped_redhat_df)]\n",
    "todos_los_datos = {'Tipo_maquina': lista_maquinas, 'Cantidad': lista_cantidades}\n",
    "df_datos = pd.DataFrame(todos_los_datos)\n",
    "print(df_datos)\n",
    "                                                                                                                                                                                                                                           "
   ]
  }
 ],
 "metadata": {
  "kernelspec": {
   "display_name": ".venv",
   "language": "python",
   "name": "python3"
  },
  "language_info": {
   "codemirror_mode": {
    "name": "ipython",
    "version": 3
   },
   "file_extension": ".py",
   "mimetype": "text/x-python",
   "name": "python",
   "nbconvert_exporter": "python",
   "pygments_lexer": "ipython3",
   "version": "3.13.5"
  }
 },
 "nbformat": 4,
 "nbformat_minor": 5
}
